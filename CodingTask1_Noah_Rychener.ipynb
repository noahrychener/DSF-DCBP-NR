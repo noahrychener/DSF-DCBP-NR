{
  "nbformat": 4,
  "nbformat_minor": 0,
  "metadata": {
    "colab": {
      "name": "CodingTask1_Noah Rychener.ipynb",
      "provenance": [],
      "collapsed_sections": [],
      "include_colab_link": true
    },
    "kernelspec": {
      "name": "python3",
      "display_name": "Python 3"
    },
    "language_info": {
      "name": "python"
    }
  },
  "cells": [
    {
      "cell_type": "markdown",
      "metadata": {
        "id": "view-in-github",
        "colab_type": "text"
      },
      "source": [
        "<a href=\"https://colab.research.google.com/github/noahrychener/DSF-DCBP-NR/blob/main/CodingTask1_Noah_Rychener.ipynb\" target=\"_parent\"><img src=\"https://colab.research.google.com/assets/colab-badge.svg\" alt=\"Open In Colab\"/></a>"
      ]
    },
    {
      "cell_type": "markdown",
      "source": [
        "Data Science Fundamentals for DCBP, S. Haug, University of Bern "
      ],
      "metadata": {
        "id": "_-1mhuoK6uqC"
      }
    },
    {
      "cell_type": "markdown",
      "source": [
        "# Coding Task 1\n",
        "\n",
        "- Deadline (upload to Ilias): 2022-03-20 24:00\n",
        "- Estimated effort: 2-5 hours\n",
        "- Data on Ilias (4ms_...) with metadata file CCD-Metadata\n"
      ],
      "metadata": {
        "id": "gn4RkUC66-ou"
      }
    },
    {
      "cell_type": "markdown",
      "source": [
        "## Tasks (maximum 12.5 points)"
      ],
      "metadata": {
        "id": "KYKF2iS56v1z"
      }
    },
    {
      "cell_type": "markdown",
      "source": [
        "- Write a method (function) which removes the header information in the datafile and saves that information into a separate textfile. [0.5 points] \n",
        "- Write a function which reduces the data resolution by averaging over 1, 2, 3 and 4 nm wavelengths. Save these 4 new reduced datasets in new files. Do this (1) by writing an explicit loop and (2) by using pandas methods. Measure the running times of the two approaches. [6 points]\n",
        "- Write a function which takes two wavelengths as input and plots the difference of the data at these lengths over time. [2 points] \n",
        "- Let the x-axis be in seconds, label the axes with names and units, label the plot with color and legend, make a title for the plot. Save the plot to a file. [2 points]\n",
        "- Plot the full and the reduced datasets in the same figure. Is there any visual difference? [2 points]"
      ],
      "metadata": {
        "id": "rXqhhPMu9aPx"
      }
    },
    {
      "cell_type": "markdown",
      "source": [
        "### 1. Safe the header information into a seperate .txt file "
      ],
      "metadata": {
        "id": "n3i5tpggZSRj"
      }
    },
    {
      "cell_type": "code",
      "source": [
        "# import tools from libraries\n",
        "import pandas as pd\n",
        "import matplotlib.pyplot as plt\n",
        "import numpy as np"
      ],
      "metadata": {
        "id": "B3w0VoGCoveM"
      },
      "execution_count": 72,
      "outputs": []
    },
    {
      "cell_type": "code",
      "source": [
        "# mount directory and the data file\n",
        "from google.colab import drive\n",
        "drive.mount('/content/drive')\n",
        "path = '/content/drive/MyDrive/Colab Notebooks/Coding Task 1/4ms_10 av_30 s_Absorbance_10-32-04-868.txt'"
      ],
      "metadata": {
        "colab": {
          "base_uri": "https://localhost:8080/"
        },
        "id": "y9N5yR37VnEQ",
        "outputId": "3929b412-5694-449e-92fb-15d2f55c0e52"
      },
      "execution_count": 73,
      "outputs": [
        {
          "output_type": "stream",
          "name": "stdout",
          "text": [
            "Drive already mounted at /content/drive; to attempt to forcibly remount, call drive.mount(\"/content/drive\", force_remount=True).\n"
          ]
        }
      ]
    },
    {
      "cell_type": "code",
      "source": [
        "df = pd.read_csv(path, delimiter='\\t', header = 13) # define the header of the file.\n",
        "df = df.drop(columns = \"Unnamed: 0\") # removing the first column, e.g. time given in text.\n",
        "df = df.rename(columns={\"Unnamed: 1\": \"time_num [s]\"}) # renaming the numerical time to 'time_num'.\n",
        "df.to_csv('/content/drive/MyDrive/Colab Notebooks/Coding Task 1/task1_data.csv') # safe the header information into a '.csv' file.\n",
        "\n",
        "# normalizing the time_num [s] to t(0) = 0 [s] using a method function.\n",
        "def time():\n",
        "  a = df.iloc[:,0]\n",
        "  b = a[0]\n",
        "  for i in range(len(a)):\n",
        "    a[i] = a[i] - b\n",
        "time()\n",
        "df.to_csv('/content/drive/MyDrive/Colab Notebooks/Coding Task 1/task1_naked_data.csv') # safe the raw data w/o header as task1_naked_data.csv to the def. directory\n",
        "df[:-5] # show the first and last five rows of the df.\n",
        "# df.info()"
      ],
      "metadata": {
        "id": "OfvMackX-SFc",
        "colab": {
          "base_uri": "https://localhost:8080/",
          "height": 510
        },
        "outputId": "bcb48277-c5ac-43e2-ef9e-5e78d6d21d3b"
      },
      "execution_count": 205,
      "outputs": [
        {
          "output_type": "stream",
          "name": "stderr",
          "text": [
            "/usr/local/lib/python3.7/dist-packages/ipykernel_launcher.py:11: SettingWithCopyWarning: \n",
            "A value is trying to be set on a copy of a slice from a DataFrame\n",
            "\n",
            "See the caveats in the documentation: https://pandas.pydata.org/pandas-docs/stable/user_guide/indexing.html#returning-a-view-versus-a-copy\n",
            "  # This is added back by InteractiveShellApp.init_path()\n"
          ]
        },
        {
          "output_type": "execute_result",
          "data": {
            "text/plain": [
              "     time_num [s]  316.6137  316.7492  316.8847  317.0203  317.1558  317.2913  \\\n",
              "0               0  0.329672  0.329672  0.329672  0.090294 -0.716926 -1.829304   \n",
              "1              89 -0.044412 -0.044412 -0.044412  0.157632 -0.672423 -2.183981   \n",
              "2             173  0.338219  0.338219  0.338219  0.330993 -0.879836 -0.000000   \n",
              "3             257 -0.049682 -0.049682 -0.049682  0.519086 -0.681150 -0.000000   \n",
              "4             340  0.335086  0.335086  0.335086 -0.041393 -0.000000 -1.802774   \n",
              "..            ...       ...       ...       ...       ...       ...       ...   \n",
              "345         29190  0.327377  0.327377  0.327377 -0.084545 -0.610703 -1.701136   \n",
              "346         29274  0.849559  0.849559  0.849559  0.258945  0.245775 -0.000000   \n",
              "347         29358  0.333751  0.333751  0.333751  0.075539 -0.451655 -0.000000   \n",
              "348         29442  0.842144  0.842144  0.842144  0.006525 -0.107687 -0.000000   \n",
              "349         29526  0.327437  0.327437  0.327437  0.745151 -0.408717 -0.000000   \n",
              "\n",
              "     317.4268  317.5623  317.6977  ...  778.9703   779.089  779.2076  \\\n",
              "0   -0.686330 -0.428776  1.740363  ... -0.038483 -0.039623 -0.036920   \n",
              "1   -0.492421 -0.000000 -0.695800  ... -0.039428 -0.038486 -0.037309   \n",
              "2   -0.559845 -0.000000 -0.275276  ... -0.037725 -0.037534 -0.036560   \n",
              "3   -0.417230 -0.000000 -0.140451  ... -0.037613 -0.037168 -0.036369   \n",
              "4   -0.510417 -0.000000 -0.000000  ... -0.040919 -0.038288 -0.035840   \n",
              "..        ...       ...       ...  ...       ...       ...       ...   \n",
              "345 -0.646040 -0.337365 -0.000000  ... -0.037655 -0.036256 -0.037135   \n",
              "346 -0.374113 -0.466056 -0.081369  ... -0.035420 -0.036194 -0.035676   \n",
              "347 -0.629710  0.056823 -0.536864  ... -0.038563 -0.036604 -0.038682   \n",
              "348 -0.392017 -0.351271 -0.000000  ... -0.035657 -0.037125 -0.036921   \n",
              "349 -0.000000 -0.000000 -0.000000  ... -0.037144 -0.036308 -0.036362   \n",
              "\n",
              "     779.3263  779.4449  779.5636  779.6822  779.8008  779.9194  780.0381  \n",
              "0   -0.037309 -0.037299 -0.037476 -0.036856 -0.036853 -0.039100 -0.035545  \n",
              "1   -0.036357 -0.037289 -0.038728 -0.037214 -0.036902 -0.040210 -0.038165  \n",
              "2   -0.036152 -0.036554 -0.036875 -0.037351 -0.036746 -0.038686 -0.036903  \n",
              "3   -0.034549 -0.036252 -0.037948 -0.036713 -0.035706 -0.038203 -0.036822  \n",
              "4   -0.035638 -0.039504 -0.040093 -0.039953 -0.037656 -0.038082 -0.035900  \n",
              "..        ...       ...       ...       ...       ...       ...       ...  \n",
              "345 -0.033259 -0.036576 -0.036220 -0.035828 -0.036743 -0.037258 -0.033387  \n",
              "346 -0.034751 -0.034562 -0.035755 -0.036625 -0.035341 -0.037771 -0.034683  \n",
              "347 -0.034857 -0.036381 -0.036967 -0.036207 -0.035561 -0.038084 -0.033631  \n",
              "348 -0.035408 -0.036993 -0.036793 -0.036874 -0.036189 -0.036998 -0.034847  \n",
              "349 -0.034465 -0.036997 -0.036042 -0.035778 -0.035994 -0.036252 -0.035308  \n",
              "\n",
              "[350 rows x 3649 columns]"
            ],
            "text/html": [
              "\n",
              "  <div id=\"df-dc8c40be-68a5-49bc-88de-55416aff4c3c\">\n",
              "    <div class=\"colab-df-container\">\n",
              "      <div>\n",
              "<style scoped>\n",
              "    .dataframe tbody tr th:only-of-type {\n",
              "        vertical-align: middle;\n",
              "    }\n",
              "\n",
              "    .dataframe tbody tr th {\n",
              "        vertical-align: top;\n",
              "    }\n",
              "\n",
              "    .dataframe thead th {\n",
              "        text-align: right;\n",
              "    }\n",
              "</style>\n",
              "<table border=\"1\" class=\"dataframe\">\n",
              "  <thead>\n",
              "    <tr style=\"text-align: right;\">\n",
              "      <th></th>\n",
              "      <th>time_num [s]</th>\n",
              "      <th>316.6137</th>\n",
              "      <th>316.7492</th>\n",
              "      <th>316.8847</th>\n",
              "      <th>317.0203</th>\n",
              "      <th>317.1558</th>\n",
              "      <th>317.2913</th>\n",
              "      <th>317.4268</th>\n",
              "      <th>317.5623</th>\n",
              "      <th>317.6977</th>\n",
              "      <th>...</th>\n",
              "      <th>778.9703</th>\n",
              "      <th>779.089</th>\n",
              "      <th>779.2076</th>\n",
              "      <th>779.3263</th>\n",
              "      <th>779.4449</th>\n",
              "      <th>779.5636</th>\n",
              "      <th>779.6822</th>\n",
              "      <th>779.8008</th>\n",
              "      <th>779.9194</th>\n",
              "      <th>780.0381</th>\n",
              "    </tr>\n",
              "  </thead>\n",
              "  <tbody>\n",
              "    <tr>\n",
              "      <th>0</th>\n",
              "      <td>0</td>\n",
              "      <td>0.329672</td>\n",
              "      <td>0.329672</td>\n",
              "      <td>0.329672</td>\n",
              "      <td>0.090294</td>\n",
              "      <td>-0.716926</td>\n",
              "      <td>-1.829304</td>\n",
              "      <td>-0.686330</td>\n",
              "      <td>-0.428776</td>\n",
              "      <td>1.740363</td>\n",
              "      <td>...</td>\n",
              "      <td>-0.038483</td>\n",
              "      <td>-0.039623</td>\n",
              "      <td>-0.036920</td>\n",
              "      <td>-0.037309</td>\n",
              "      <td>-0.037299</td>\n",
              "      <td>-0.037476</td>\n",
              "      <td>-0.036856</td>\n",
              "      <td>-0.036853</td>\n",
              "      <td>-0.039100</td>\n",
              "      <td>-0.035545</td>\n",
              "    </tr>\n",
              "    <tr>\n",
              "      <th>1</th>\n",
              "      <td>89</td>\n",
              "      <td>-0.044412</td>\n",
              "      <td>-0.044412</td>\n",
              "      <td>-0.044412</td>\n",
              "      <td>0.157632</td>\n",
              "      <td>-0.672423</td>\n",
              "      <td>-2.183981</td>\n",
              "      <td>-0.492421</td>\n",
              "      <td>-0.000000</td>\n",
              "      <td>-0.695800</td>\n",
              "      <td>...</td>\n",
              "      <td>-0.039428</td>\n",
              "      <td>-0.038486</td>\n",
              "      <td>-0.037309</td>\n",
              "      <td>-0.036357</td>\n",
              "      <td>-0.037289</td>\n",
              "      <td>-0.038728</td>\n",
              "      <td>-0.037214</td>\n",
              "      <td>-0.036902</td>\n",
              "      <td>-0.040210</td>\n",
              "      <td>-0.038165</td>\n",
              "    </tr>\n",
              "    <tr>\n",
              "      <th>2</th>\n",
              "      <td>173</td>\n",
              "      <td>0.338219</td>\n",
              "      <td>0.338219</td>\n",
              "      <td>0.338219</td>\n",
              "      <td>0.330993</td>\n",
              "      <td>-0.879836</td>\n",
              "      <td>-0.000000</td>\n",
              "      <td>-0.559845</td>\n",
              "      <td>-0.000000</td>\n",
              "      <td>-0.275276</td>\n",
              "      <td>...</td>\n",
              "      <td>-0.037725</td>\n",
              "      <td>-0.037534</td>\n",
              "      <td>-0.036560</td>\n",
              "      <td>-0.036152</td>\n",
              "      <td>-0.036554</td>\n",
              "      <td>-0.036875</td>\n",
              "      <td>-0.037351</td>\n",
              "      <td>-0.036746</td>\n",
              "      <td>-0.038686</td>\n",
              "      <td>-0.036903</td>\n",
              "    </tr>\n",
              "    <tr>\n",
              "      <th>3</th>\n",
              "      <td>257</td>\n",
              "      <td>-0.049682</td>\n",
              "      <td>-0.049682</td>\n",
              "      <td>-0.049682</td>\n",
              "      <td>0.519086</td>\n",
              "      <td>-0.681150</td>\n",
              "      <td>-0.000000</td>\n",
              "      <td>-0.417230</td>\n",
              "      <td>-0.000000</td>\n",
              "      <td>-0.140451</td>\n",
              "      <td>...</td>\n",
              "      <td>-0.037613</td>\n",
              "      <td>-0.037168</td>\n",
              "      <td>-0.036369</td>\n",
              "      <td>-0.034549</td>\n",
              "      <td>-0.036252</td>\n",
              "      <td>-0.037948</td>\n",
              "      <td>-0.036713</td>\n",
              "      <td>-0.035706</td>\n",
              "      <td>-0.038203</td>\n",
              "      <td>-0.036822</td>\n",
              "    </tr>\n",
              "    <tr>\n",
              "      <th>4</th>\n",
              "      <td>340</td>\n",
              "      <td>0.335086</td>\n",
              "      <td>0.335086</td>\n",
              "      <td>0.335086</td>\n",
              "      <td>-0.041393</td>\n",
              "      <td>-0.000000</td>\n",
              "      <td>-1.802774</td>\n",
              "      <td>-0.510417</td>\n",
              "      <td>-0.000000</td>\n",
              "      <td>-0.000000</td>\n",
              "      <td>...</td>\n",
              "      <td>-0.040919</td>\n",
              "      <td>-0.038288</td>\n",
              "      <td>-0.035840</td>\n",
              "      <td>-0.035638</td>\n",
              "      <td>-0.039504</td>\n",
              "      <td>-0.040093</td>\n",
              "      <td>-0.039953</td>\n",
              "      <td>-0.037656</td>\n",
              "      <td>-0.038082</td>\n",
              "      <td>-0.035900</td>\n",
              "    </tr>\n",
              "    <tr>\n",
              "      <th>...</th>\n",
              "      <td>...</td>\n",
              "      <td>...</td>\n",
              "      <td>...</td>\n",
              "      <td>...</td>\n",
              "      <td>...</td>\n",
              "      <td>...</td>\n",
              "      <td>...</td>\n",
              "      <td>...</td>\n",
              "      <td>...</td>\n",
              "      <td>...</td>\n",
              "      <td>...</td>\n",
              "      <td>...</td>\n",
              "      <td>...</td>\n",
              "      <td>...</td>\n",
              "      <td>...</td>\n",
              "      <td>...</td>\n",
              "      <td>...</td>\n",
              "      <td>...</td>\n",
              "      <td>...</td>\n",
              "      <td>...</td>\n",
              "      <td>...</td>\n",
              "    </tr>\n",
              "    <tr>\n",
              "      <th>345</th>\n",
              "      <td>29190</td>\n",
              "      <td>0.327377</td>\n",
              "      <td>0.327377</td>\n",
              "      <td>0.327377</td>\n",
              "      <td>-0.084545</td>\n",
              "      <td>-0.610703</td>\n",
              "      <td>-1.701136</td>\n",
              "      <td>-0.646040</td>\n",
              "      <td>-0.337365</td>\n",
              "      <td>-0.000000</td>\n",
              "      <td>...</td>\n",
              "      <td>-0.037655</td>\n",
              "      <td>-0.036256</td>\n",
              "      <td>-0.037135</td>\n",
              "      <td>-0.033259</td>\n",
              "      <td>-0.036576</td>\n",
              "      <td>-0.036220</td>\n",
              "      <td>-0.035828</td>\n",
              "      <td>-0.036743</td>\n",
              "      <td>-0.037258</td>\n",
              "      <td>-0.033387</td>\n",
              "    </tr>\n",
              "    <tr>\n",
              "      <th>346</th>\n",
              "      <td>29274</td>\n",
              "      <td>0.849559</td>\n",
              "      <td>0.849559</td>\n",
              "      <td>0.849559</td>\n",
              "      <td>0.258945</td>\n",
              "      <td>0.245775</td>\n",
              "      <td>-0.000000</td>\n",
              "      <td>-0.374113</td>\n",
              "      <td>-0.466056</td>\n",
              "      <td>-0.081369</td>\n",
              "      <td>...</td>\n",
              "      <td>-0.035420</td>\n",
              "      <td>-0.036194</td>\n",
              "      <td>-0.035676</td>\n",
              "      <td>-0.034751</td>\n",
              "      <td>-0.034562</td>\n",
              "      <td>-0.035755</td>\n",
              "      <td>-0.036625</td>\n",
              "      <td>-0.035341</td>\n",
              "      <td>-0.037771</td>\n",
              "      <td>-0.034683</td>\n",
              "    </tr>\n",
              "    <tr>\n",
              "      <th>347</th>\n",
              "      <td>29358</td>\n",
              "      <td>0.333751</td>\n",
              "      <td>0.333751</td>\n",
              "      <td>0.333751</td>\n",
              "      <td>0.075539</td>\n",
              "      <td>-0.451655</td>\n",
              "      <td>-0.000000</td>\n",
              "      <td>-0.629710</td>\n",
              "      <td>0.056823</td>\n",
              "      <td>-0.536864</td>\n",
              "      <td>...</td>\n",
              "      <td>-0.038563</td>\n",
              "      <td>-0.036604</td>\n",
              "      <td>-0.038682</td>\n",
              "      <td>-0.034857</td>\n",
              "      <td>-0.036381</td>\n",
              "      <td>-0.036967</td>\n",
              "      <td>-0.036207</td>\n",
              "      <td>-0.035561</td>\n",
              "      <td>-0.038084</td>\n",
              "      <td>-0.033631</td>\n",
              "    </tr>\n",
              "    <tr>\n",
              "      <th>348</th>\n",
              "      <td>29442</td>\n",
              "      <td>0.842144</td>\n",
              "      <td>0.842144</td>\n",
              "      <td>0.842144</td>\n",
              "      <td>0.006525</td>\n",
              "      <td>-0.107687</td>\n",
              "      <td>-0.000000</td>\n",
              "      <td>-0.392017</td>\n",
              "      <td>-0.351271</td>\n",
              "      <td>-0.000000</td>\n",
              "      <td>...</td>\n",
              "      <td>-0.035657</td>\n",
              "      <td>-0.037125</td>\n",
              "      <td>-0.036921</td>\n",
              "      <td>-0.035408</td>\n",
              "      <td>-0.036993</td>\n",
              "      <td>-0.036793</td>\n",
              "      <td>-0.036874</td>\n",
              "      <td>-0.036189</td>\n",
              "      <td>-0.036998</td>\n",
              "      <td>-0.034847</td>\n",
              "    </tr>\n",
              "    <tr>\n",
              "      <th>349</th>\n",
              "      <td>29526</td>\n",
              "      <td>0.327437</td>\n",
              "      <td>0.327437</td>\n",
              "      <td>0.327437</td>\n",
              "      <td>0.745151</td>\n",
              "      <td>-0.408717</td>\n",
              "      <td>-0.000000</td>\n",
              "      <td>-0.000000</td>\n",
              "      <td>-0.000000</td>\n",
              "      <td>-0.000000</td>\n",
              "      <td>...</td>\n",
              "      <td>-0.037144</td>\n",
              "      <td>-0.036308</td>\n",
              "      <td>-0.036362</td>\n",
              "      <td>-0.034465</td>\n",
              "      <td>-0.036997</td>\n",
              "      <td>-0.036042</td>\n",
              "      <td>-0.035778</td>\n",
              "      <td>-0.035994</td>\n",
              "      <td>-0.036252</td>\n",
              "      <td>-0.035308</td>\n",
              "    </tr>\n",
              "  </tbody>\n",
              "</table>\n",
              "<p>350 rows × 3649 columns</p>\n",
              "</div>\n",
              "      <button class=\"colab-df-convert\" onclick=\"convertToInteractive('df-dc8c40be-68a5-49bc-88de-55416aff4c3c')\"\n",
              "              title=\"Convert this dataframe to an interactive table.\"\n",
              "              style=\"display:none;\">\n",
              "        \n",
              "  <svg xmlns=\"http://www.w3.org/2000/svg\" height=\"24px\"viewBox=\"0 0 24 24\"\n",
              "       width=\"24px\">\n",
              "    <path d=\"M0 0h24v24H0V0z\" fill=\"none\"/>\n",
              "    <path d=\"M18.56 5.44l.94 2.06.94-2.06 2.06-.94-2.06-.94-.94-2.06-.94 2.06-2.06.94zm-11 1L8.5 8.5l.94-2.06 2.06-.94-2.06-.94L8.5 2.5l-.94 2.06-2.06.94zm10 10l.94 2.06.94-2.06 2.06-.94-2.06-.94-.94-2.06-.94 2.06-2.06.94z\"/><path d=\"M17.41 7.96l-1.37-1.37c-.4-.4-.92-.59-1.43-.59-.52 0-1.04.2-1.43.59L10.3 9.45l-7.72 7.72c-.78.78-.78 2.05 0 2.83L4 21.41c.39.39.9.59 1.41.59.51 0 1.02-.2 1.41-.59l7.78-7.78 2.81-2.81c.8-.78.8-2.07 0-2.86zM5.41 20L4 18.59l7.72-7.72 1.47 1.35L5.41 20z\"/>\n",
              "  </svg>\n",
              "      </button>\n",
              "      \n",
              "  <style>\n",
              "    .colab-df-container {\n",
              "      display:flex;\n",
              "      flex-wrap:wrap;\n",
              "      gap: 12px;\n",
              "    }\n",
              "\n",
              "    .colab-df-convert {\n",
              "      background-color: #E8F0FE;\n",
              "      border: none;\n",
              "      border-radius: 50%;\n",
              "      cursor: pointer;\n",
              "      display: none;\n",
              "      fill: #1967D2;\n",
              "      height: 32px;\n",
              "      padding: 0 0 0 0;\n",
              "      width: 32px;\n",
              "    }\n",
              "\n",
              "    .colab-df-convert:hover {\n",
              "      background-color: #E2EBFA;\n",
              "      box-shadow: 0px 1px 2px rgba(60, 64, 67, 0.3), 0px 1px 3px 1px rgba(60, 64, 67, 0.15);\n",
              "      fill: #174EA6;\n",
              "    }\n",
              "\n",
              "    [theme=dark] .colab-df-convert {\n",
              "      background-color: #3B4455;\n",
              "      fill: #D2E3FC;\n",
              "    }\n",
              "\n",
              "    [theme=dark] .colab-df-convert:hover {\n",
              "      background-color: #434B5C;\n",
              "      box-shadow: 0px 1px 3px 1px rgba(0, 0, 0, 0.15);\n",
              "      filter: drop-shadow(0px 1px 2px rgba(0, 0, 0, 0.3));\n",
              "      fill: #FFFFFF;\n",
              "    }\n",
              "  </style>\n",
              "\n",
              "      <script>\n",
              "        const buttonEl =\n",
              "          document.querySelector('#df-dc8c40be-68a5-49bc-88de-55416aff4c3c button.colab-df-convert');\n",
              "        buttonEl.style.display =\n",
              "          google.colab.kernel.accessAllowed ? 'block' : 'none';\n",
              "\n",
              "        async function convertToInteractive(key) {\n",
              "          const element = document.querySelector('#df-dc8c40be-68a5-49bc-88de-55416aff4c3c');\n",
              "          const dataTable =\n",
              "            await google.colab.kernel.invokeFunction('convertToInteractive',\n",
              "                                                     [key], {});\n",
              "          if (!dataTable) return;\n",
              "\n",
              "          const docLinkHtml = 'Like what you see? Visit the ' +\n",
              "            '<a target=\"_blank\" href=https://colab.research.google.com/notebooks/data_table.ipynb>data table notebook</a>'\n",
              "            + ' to learn more about interactive tables.';\n",
              "          element.innerHTML = '';\n",
              "          dataTable['output_type'] = 'display_data';\n",
              "          await google.colab.output.renderOutput(dataTable, element);\n",
              "          const docLink = document.createElement('div');\n",
              "          docLink.innerHTML = docLinkHtml;\n",
              "          element.appendChild(docLink);\n",
              "        }\n",
              "      </script>\n",
              "    </div>\n",
              "  </div>\n",
              "  "
            ]
          },
          "metadata": {},
          "execution_count": 205
        }
      ]
    },
    {
      "cell_type": "markdown",
      "source": [
        "\n",
        "## 2. Reducing data"
      ],
      "metadata": {
        "id": "Z9VyP197Y9fH"
      }
    },
    {
      "cell_type": "markdown",
      "source": [
        "### 2.1 Loop\n",
        "No solution"
      ],
      "metadata": {
        "id": "mH2UMv98lf2A"
      }
    },
    {
      "cell_type": "markdown",
      "source": [
        "### 2.2 Pandas\n"
      ],
      "metadata": {
        "id": "JHRkE8umlYSX"
      }
    },
    {
      "cell_type": "code",
      "source": [
        "# Reducing the data: 1825 from 3649 columns (1/2)\n",
        "df = df.transpose()\n",
        "d = df.groupby(np.arange(len(df.index))//2).mean()\n",
        "e = d.transpose()\n",
        "e.to_csv('/content/drive/MyDrive/Colab Notebooks/Coding Task 1/wavelength_050.csv')"
      ],
      "metadata": {
        "id": "ebs0JjMrXW8U"
      },
      "execution_count": 246,
      "outputs": []
    },
    {
      "cell_type": "code",
      "source": [
        "# Reducing the data: 1217 from 3649 columns (1/3)\n",
        "df = df.transpose()\n",
        "f = df.groupby(np.arange(len(df.index))//3).mean()\n",
        "f = d.transpose()\n",
        "# f.to_csv('/content/drive/MyDrive/Colab Notebooks/Coding Task 1/wavelength_033.csv')\n"
      ],
      "metadata": {
        "id": "Uxh1qVQPXxWU"
      },
      "execution_count": 224,
      "outputs": []
    },
    {
      "cell_type": "code",
      "source": [
        "# Reducing the data: 912 from 3649 columns (1/4)\n",
        "df = df.transpose()\n",
        "g = df.groupby(np.arange(len(df.index))//4).mean()\n",
        "g = d.transpose()\n",
        "g.to_csv('/content/drive/MyDrive/Colab Notebooks/Coding Task 1/wavelength_025.csv')"
      ],
      "metadata": {
        "id": "HDzXKMhRZcAo"
      },
      "execution_count": 223,
      "outputs": []
    },
    {
      "cell_type": "code",
      "source": [
        "# df.groupby(np.arange(len([df.index])//2).mean(axis = 1)\n",
        "# df.groupby(np.arange(len(df.index))//2).mean() # faster\n",
        "# df.groupby(np.arange(len(df))//2).mean() # slower\n",
        "# df['avg'] = df.iloc[:,0:2].mean(axis=1)\n",
        "# df['avg']"
      ],
      "metadata": {
        "id": "ZcYEJTTkmTOy"
      },
      "execution_count": 226,
      "outputs": []
    },
    {
      "cell_type": "code",
      "source": [
        "# df.columns[1]# access columns by position.\n",
        "# df.iloc[1, 10] # ...\n",
        "# df[1,:]"
      ],
      "metadata": {
        "id": "g-V01Hp1XqzF"
      },
      "execution_count": 228,
      "outputs": []
    },
    {
      "cell_type": "markdown",
      "source": [
        "#### 2.2.1 Measuring the time"
      ],
      "metadata": {
        "id": "zMdmTRy7c-Ya"
      }
    },
    {
      "cell_type": "code",
      "source": [
        "%%time\n",
        "# Reducing the data: 1825 from 3649 columns (1/2)\n",
        "df = df.transpose()\n",
        "d = df.groupby(np.arange(len(df.index))//2).mean()\n",
        "e = d.transpose()\n",
        "e.to_csv('/content/drive/MyDrive/Colab Notebooks/Coding Task 1/wavelength_050.csv')"
      ],
      "metadata": {
        "colab": {
          "base_uri": "https://localhost:8080/"
        },
        "id": "rOB2nkbgZm7-",
        "outputId": "817478f7-4e24-40ae-f7ce-f22f9857a1ee"
      },
      "execution_count": 254,
      "outputs": [
        {
          "output_type": "stream",
          "name": "stdout",
          "text": [
            "CPU times: user 679 ms, sys: 15.3 ms, total: 694 ms\n",
            "Wall time: 731 ms\n"
          ]
        }
      ]
    },
    {
      "cell_type": "markdown",
      "source": [
        "## 3. Difference between two wavelengths"
      ],
      "metadata": {
        "id": "VmVDkHsFER8I"
      }
    },
    {
      "cell_type": "code",
      "source": [
        "# Plotting the difference of the intensity I [a.u.] between two different wavelengths over the time t [ms].\n",
        "x = df.iloc[:,0]\n",
        "x = df.iloc[:,0]\n",
        "y = -(df.iloc[:,1950]-df.iloc[:,1800])\n",
        "\n",
        "plt.figure(figsize = (10,5))\n",
        "plt.plot(x,y, color='red', label = 'I [a.u.] / t [s]')\n",
        "plt.xlabel('t [ms]')\n",
        "plt.ylabel('I [a.u.]')\n",
        "plt.title('Diff. lambda [nm]')\n",
        "plt.legend()"
      ],
      "metadata": {
        "id": "FrnUnMn-Picd",
        "colab": {
          "base_uri": "https://localhost:8080/",
          "height": 367
        },
        "outputId": "298f0700-dde1-437b-e016-7e79572cf9ef"
      },
      "execution_count": 244,
      "outputs": [
        {
          "output_type": "execute_result",
          "data": {
            "text/plain": [
              "<matplotlib.legend.Legend at 0x7fbd9098b950>"
            ]
          },
          "metadata": {},
          "execution_count": 244
        },
        {
          "output_type": "display_data",
          "data": {
            "text/plain": [
              "<Figure size 720x360 with 1 Axes>"
            ],
            "image/png": "[encoded data removed]"
          },
          "metadata": {
            "needs_background": "light"
          }
        }
      ]
    },
    {
      "cell_type": "markdown",
      "source": [
        "## 4. Full and reduced dataset in one plot"
      ],
      "metadata": {
        "id": "aO5WG2QvV_h5"
      }
    },
    {
      "cell_type": "code",
      "source": [
        "x = df.iloc[:,0]\n",
        "y = -(df.iloc[:,1950]-df.iloc[:,1800])\n",
        "plt.figure(figsize = (10,5))\n",
        "plt.xlabel('lambda [nm]')\n",
        "plt.ylabel('I [a.u]')\n",
        "df1 = df.iloc[0,1:-1]\n",
        "df1.plot()"
      ],
      "metadata": {
        "id": "g_y4_ItRajXT",
        "colab": {
          "base_uri": "https://localhost:8080/",
          "height": 355
        },
        "outputId": "09acab2a-60cd-4901-be9e-f948f900c5f1"
      },
      "execution_count": 245,
      "outputs": [
        {
          "output_type": "execute_result",
          "data": {
            "text/plain": [
              "<matplotlib.axes._subplots.AxesSubplot at 0x7fbd90256f50>"
            ]
          },
          "metadata": {},
          "execution_count": 245
        },
        {
          "output_type": "display_data",
          "data": {
            "text/plain": [
              "<Figure size 720x360 with 1 Axes>"
            ],
            "image/png": "[encoded data removed]"
          },
          "metadata": {
            "needs_background": "light"
          }
        }
      ]
    },
    {
      "cell_type": "code",
      "source": [
        "plt.figure(figsize = (10,5))\n",
        "plt.plot(x, y)\n",
        "x = df.iloc[:,0]\n",
        "y = df.iloc[:,1950]\n",
        "plt.plot(x, y, label = 'I [a.u.] / t [nm]') # Plot against a x-axis (0-60 s).\n",
        "y_new = -(df.iloc[:,1950]-df.iloc[:,1800]) # Interested in the difference between two wafelengths\n",
        "plt.xlabel('t [s]')\n",
        "plt.ylabel('I [a.u]')\n",
        "plt.legend()"
      ],
      "metadata": {
        "colab": {
          "base_uri": "https://localhost:8080/",
          "height": 351
        },
        "id": "Iw6nnCi2WXWN",
        "outputId": "c854f9d3-0a03-4872-b18d-6d23f2d0fbbe"
      },
      "execution_count": 243,
      "outputs": [
        {
          "output_type": "execute_result",
          "data": {
            "text/plain": [
              "<matplotlib.legend.Legend at 0x7fbd909fbed0>"
            ]
          },
          "metadata": {},
          "execution_count": 243
        },
        {
          "output_type": "display_data",
          "data": {
            "text/plain": [
              "<Figure size 720x360 with 1 Axes>"
            ],
            "image/png": "[encoded data removed]"
          },
          "metadata": {
            "needs_background": "light"
          }
        }
      ]
    },
    {
      "cell_type": "code",
      "source": [
        ""
      ],
      "metadata": {
        "id": "b7WP0gLiajms"
      },
      "execution_count": null,
      "outputs": []
    }
  ]
}